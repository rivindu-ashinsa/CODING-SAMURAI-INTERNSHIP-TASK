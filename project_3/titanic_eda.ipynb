{
 "cells": [
  {
   "cell_type": "code",
   "execution_count": null,
   "id": "c66ddab0",
   "metadata": {},
   "outputs": [],
   "source": [
    "# Titanic EDA Project - End-to-End"
   ]
  },
  {
   "cell_type": "code",
   "execution_count": null,
   "id": "335aa5ac",
   "metadata": {},
   "outputs": [],
   "source": [
    "# 🔧 Import Libraries\n",
    "import pandas as pd\n",
    "import numpy as np\n",
    "import seaborn as sns\n",
    "import matplotlib.pyplot as plt"
   ]
  },
  {
   "cell_type": "code",
   "execution_count": null,
   "id": "fe4082b1",
   "metadata": {},
   "outputs": [],
   "source": [
    "# 📥 Load Data\n",
    "df = pd.read_csv(\"train.csv\")"
   ]
  },
  {
   "cell_type": "code",
   "execution_count": null,
   "id": "836976ce",
   "metadata": {},
   "outputs": [],
   "source": [
    "# 📊 Basic Information\n",
    "print(\"Dataset Shape:\", df.shape)\n",
    "print(\"Dataset Columns:\", df.columns)\n",
    "print(df.info())\n",
    "print(df.describe())"
   ]
  },
  {
   "cell_type": "code",
   "execution_count": null,
   "id": "e80f9b57",
   "metadata": {},
   "outputs": [],
   "source": [
    "# 🔍 Missing Values\n",
    "missing_values = df.isnull().sum()\n",
    "missing_percentage = (missing_values / len(df)) * 100\n",
    "missing_df = pd.DataFrame({'Missing Values': missing_values, 'Percentage (%)': missing_percentage})\n",
    "print(missing_df)"
   ]
  },
  {
   "cell_type": "code",
   "execution_count": null,
   "id": "28bb88c4",
   "metadata": {},
   "outputs": [],
   "source": [
    "# 🔧 Handle Missing Data\n",
    "df['Age'].fillna(df['Age'].median(), inplace=True)\n",
    "df['Embarked'].fillna(df['Embarked'].mode()[0], inplace=True)\n",
    "df.drop(columns='Cabin', inplace=True)"
   ]
  },
  {
   "cell_type": "code",
   "execution_count": null,
   "id": "934abf7b",
   "metadata": {},
   "outputs": [],
   "source": [
    "# 📈 Univariate Analysis\n",
    "sns.countplot(data=df, x='Survived')\n",
    "plt.title(\"Survival Count\")\n",
    "plt.show()"
   ]
  },
  {
   "cell_type": "code",
   "execution_count": null,
   "id": "b3e409a1",
   "metadata": {},
   "outputs": [],
   "source": [
    "sns.countplot(data=df, x='Pclass')\n",
    "plt.title(\"Passenger Class Distribution\")\n",
    "plt.show()"
   ]
  },
  {
   "cell_type": "code",
   "execution_count": null,
   "id": "688084b5",
   "metadata": {},
   "outputs": [],
   "source": [
    "sns.countplot(data=df, x='Sex')\n",
    "plt.title(\"Gender Distribution\")\n",
    "plt.show()"
   ]
  },
  {
   "cell_type": "code",
   "execution_count": null,
   "id": "1de3cfb2",
   "metadata": {},
   "outputs": [],
   "source": [
    "df['Age'].hist(bins=30, edgecolor='black')\n",
    "plt.title(\"Age Distribution\")\n",
    "plt.xlabel(\"Age\")\n",
    "plt.ylabel(\"Count\")\n",
    "plt.show()"
   ]
  },
  {
   "cell_type": "code",
   "execution_count": null,
   "id": "f2ddecbb",
   "metadata": {},
   "outputs": [],
   "source": [
    "df['Fare'].hist(bins=40, edgecolor='black')\n",
    "plt.title(\"Fare Distribution\")\n",
    "plt.xlabel(\"Fare\")\n",
    "plt.ylabel(\"Count\")\n",
    "plt.show()"
   ]
  },
  {
   "cell_type": "code",
   "execution_count": null,
   "id": "5c5e4b06",
   "metadata": {},
   "outputs": [],
   "source": [
    "# 🔗 Bivariate Analysis\n",
    "sns.barplot(data=df, x='Sex', y='Survived')\n",
    "plt.title(\"Survival Rate by Gender\")\n",
    "plt.show()"
   ]
  },
  {
   "cell_type": "code",
   "execution_count": null,
   "id": "f940e614",
   "metadata": {},
   "outputs": [],
   "source": [
    "sns.barplot(data=df, x='Pclass', y='Survived')\n",
    "plt.title(\"Survival Rate by Passenger Class\")\n",
    "plt.show()"
   ]
  },
  {
   "cell_type": "code",
   "execution_count": null,
   "id": "f32466d1",
   "metadata": {},
   "outputs": [],
   "source": [
    "sns.boxplot(data=df, x='Survived', y='Age')\n",
    "plt.title(\"Age Distribution by Survival\")\n",
    "plt.show()"
   ]
  },
  {
   "cell_type": "code",
   "execution_count": null,
   "id": "e1f8d53d",
   "metadata": {},
   "outputs": [],
   "source": [
    "# 🔥 Correlation Analysis\n",
    "corr = df.corr(numeric_only=True)\n",
    "plt.figure(figsize=(10, 6))\n",
    "sns.heatmap(corr, annot=True, cmap='coolwarm', fmt=\".2f\")\n",
    "plt.title(\"Correlation Heatmap\")\n",
    "plt.show()\n"
   ]
  }
 ],
 "metadata": {},
 "nbformat": 4,
 "nbformat_minor": 5
}
